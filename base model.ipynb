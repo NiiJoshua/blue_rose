{
 "cells": [
  {
   "cell_type": "code",
   "execution_count": 1,
   "id": "a077b308",
   "metadata": {},
   "outputs": [],
   "source": [
    "from sklearn.model_selection import train_test_split\n",
    "from sklearn.preprocessing import StandardScaler, OneHotEncoder\n",
    "from sklearn.compose import ColumnTransformer\n",
    "from sklearn.pipeline import Pipeline\n",
    "from sklearn.linear_model import LinearRegression\n",
    "from sklearn.metrics import mean_squared_error\n",
    "from sklearn.ensemble import RandomForestRegressor"
   ]
  },
  {
   "cell_type": "code",
   "execution_count": 2,
   "id": "d74e871c",
   "metadata": {},
   "outputs": [],
   "source": [
    "import pandas as pd"
   ]
  },
  {
   "cell_type": "code",
   "execution_count": 3,
   "id": "deff8d40",
   "metadata": {},
   "outputs": [],
   "source": [
    "data = {\n",
    "    \"city\": [\"lapaz\", \"east_legon\", \"buduburam\", \"dansoman\", \"teshie\", \"kasoa\", \"awoshie\", \"cantonments\", \"osu\", \"gomoa\"],\n",
    "    \"land_size\": [1, 2, 2, 1.5, 3, 4, 4, 2, 2, 4],\n",
    "    \"house_type\": [\"2 bedrooms\", \"pent house\", \"condo\", \"2 storey\", \"3 bedrooms detached\", \"2 bedrooms semi-detached\", \"5 bedrooms\", \"4 storey\", \"2 bedrooms\", \"2 bedrooms detached\"],\n",
    "    \"property_price\": [40000, 60000, 32000, 54000, 13000, 27000, 28000, 65500, 39800, 15500],\n",
    "    \"inflation_rate\": [28]*10,\n",
    "    \"exchange_rate\": [15.6]*10,\n",
    "    \"proximity_to_amenities\": [\"yes\", \"yes\", \"no\", \"no\", \"no\", \"yes\", \"yes\", \"yes\", \"no\", \"yes\"],\n",
    "    \"age_of_property\": [1, 2, 3, 3, 2, 1, 1, 5, 1, 3],\n",
    "    \"property_condition\": [\"excellent\", \"good\", \"fair\", \"fair\", \"good\", \"excellent\", \"excellent\", \"poor\", \"excellent\", \"fair\"]\n",
    "}"
   ]
  },
  {
   "cell_type": "code",
   "execution_count": 4,
   "id": "096d3821",
   "metadata": {},
   "outputs": [],
   "source": [
    "df = pd.DataFrame(data)"
   ]
  },
  {
   "cell_type": "code",
   "execution_count": 5,
   "id": "e06cf4f6",
   "metadata": {},
   "outputs": [
    {
     "data": {
      "text/html": [
       "<div>\n",
       "<style scoped>\n",
       "    .dataframe tbody tr th:only-of-type {\n",
       "        vertical-align: middle;\n",
       "    }\n",
       "\n",
       "    .dataframe tbody tr th {\n",
       "        vertical-align: top;\n",
       "    }\n",
       "\n",
       "    .dataframe thead th {\n",
       "        text-align: right;\n",
       "    }\n",
       "</style>\n",
       "<table border=\"1\" class=\"dataframe\">\n",
       "  <thead>\n",
       "    <tr style=\"text-align: right;\">\n",
       "      <th></th>\n",
       "      <th>city</th>\n",
       "      <th>land_size</th>\n",
       "      <th>house_type</th>\n",
       "      <th>property_price</th>\n",
       "      <th>inflation_rate</th>\n",
       "      <th>exchange_rate</th>\n",
       "      <th>proximity_to_amenities</th>\n",
       "      <th>age_of_property</th>\n",
       "      <th>property_condition</th>\n",
       "    </tr>\n",
       "  </thead>\n",
       "  <tbody>\n",
       "    <tr>\n",
       "      <th>0</th>\n",
       "      <td>lapaz</td>\n",
       "      <td>1.0</td>\n",
       "      <td>2 bedrooms</td>\n",
       "      <td>40000</td>\n",
       "      <td>28</td>\n",
       "      <td>15.6</td>\n",
       "      <td>yes</td>\n",
       "      <td>1</td>\n",
       "      <td>excellent</td>\n",
       "    </tr>\n",
       "    <tr>\n",
       "      <th>1</th>\n",
       "      <td>east_legon</td>\n",
       "      <td>2.0</td>\n",
       "      <td>pent house</td>\n",
       "      <td>60000</td>\n",
       "      <td>28</td>\n",
       "      <td>15.6</td>\n",
       "      <td>yes</td>\n",
       "      <td>2</td>\n",
       "      <td>good</td>\n",
       "    </tr>\n",
       "    <tr>\n",
       "      <th>2</th>\n",
       "      <td>buduburam</td>\n",
       "      <td>2.0</td>\n",
       "      <td>condo</td>\n",
       "      <td>32000</td>\n",
       "      <td>28</td>\n",
       "      <td>15.6</td>\n",
       "      <td>no</td>\n",
       "      <td>3</td>\n",
       "      <td>fair</td>\n",
       "    </tr>\n",
       "    <tr>\n",
       "      <th>3</th>\n",
       "      <td>dansoman</td>\n",
       "      <td>1.5</td>\n",
       "      <td>2 storey</td>\n",
       "      <td>54000</td>\n",
       "      <td>28</td>\n",
       "      <td>15.6</td>\n",
       "      <td>no</td>\n",
       "      <td>3</td>\n",
       "      <td>fair</td>\n",
       "    </tr>\n",
       "    <tr>\n",
       "      <th>4</th>\n",
       "      <td>teshie</td>\n",
       "      <td>3.0</td>\n",
       "      <td>3 bedrooms detached</td>\n",
       "      <td>13000</td>\n",
       "      <td>28</td>\n",
       "      <td>15.6</td>\n",
       "      <td>no</td>\n",
       "      <td>2</td>\n",
       "      <td>good</td>\n",
       "    </tr>\n",
       "    <tr>\n",
       "      <th>5</th>\n",
       "      <td>kasoa</td>\n",
       "      <td>4.0</td>\n",
       "      <td>2 bedrooms semi-detached</td>\n",
       "      <td>27000</td>\n",
       "      <td>28</td>\n",
       "      <td>15.6</td>\n",
       "      <td>yes</td>\n",
       "      <td>1</td>\n",
       "      <td>excellent</td>\n",
       "    </tr>\n",
       "    <tr>\n",
       "      <th>6</th>\n",
       "      <td>awoshie</td>\n",
       "      <td>4.0</td>\n",
       "      <td>5 bedrooms</td>\n",
       "      <td>28000</td>\n",
       "      <td>28</td>\n",
       "      <td>15.6</td>\n",
       "      <td>yes</td>\n",
       "      <td>1</td>\n",
       "      <td>excellent</td>\n",
       "    </tr>\n",
       "    <tr>\n",
       "      <th>7</th>\n",
       "      <td>cantonments</td>\n",
       "      <td>2.0</td>\n",
       "      <td>4 storey</td>\n",
       "      <td>65500</td>\n",
       "      <td>28</td>\n",
       "      <td>15.6</td>\n",
       "      <td>yes</td>\n",
       "      <td>5</td>\n",
       "      <td>poor</td>\n",
       "    </tr>\n",
       "    <tr>\n",
       "      <th>8</th>\n",
       "      <td>osu</td>\n",
       "      <td>2.0</td>\n",
       "      <td>2 bedrooms</td>\n",
       "      <td>39800</td>\n",
       "      <td>28</td>\n",
       "      <td>15.6</td>\n",
       "      <td>no</td>\n",
       "      <td>1</td>\n",
       "      <td>excellent</td>\n",
       "    </tr>\n",
       "    <tr>\n",
       "      <th>9</th>\n",
       "      <td>gomoa</td>\n",
       "      <td>4.0</td>\n",
       "      <td>2 bedrooms detached</td>\n",
       "      <td>15500</td>\n",
       "      <td>28</td>\n",
       "      <td>15.6</td>\n",
       "      <td>yes</td>\n",
       "      <td>3</td>\n",
       "      <td>fair</td>\n",
       "    </tr>\n",
       "  </tbody>\n",
       "</table>\n",
       "</div>"
      ],
      "text/plain": [
       "          city  land_size                house_type  property_price  \\\n",
       "0        lapaz        1.0                2 bedrooms           40000   \n",
       "1   east_legon        2.0                pent house           60000   \n",
       "2    buduburam        2.0                     condo           32000   \n",
       "3     dansoman        1.5                  2 storey           54000   \n",
       "4       teshie        3.0       3 bedrooms detached           13000   \n",
       "5        kasoa        4.0  2 bedrooms semi-detached           27000   \n",
       "6      awoshie        4.0                5 bedrooms           28000   \n",
       "7  cantonments        2.0                  4 storey           65500   \n",
       "8          osu        2.0                2 bedrooms           39800   \n",
       "9        gomoa        4.0       2 bedrooms detached           15500   \n",
       "\n",
       "   inflation_rate  exchange_rate proximity_to_amenities  age_of_property  \\\n",
       "0              28           15.6                    yes                1   \n",
       "1              28           15.6                    yes                2   \n",
       "2              28           15.6                     no                3   \n",
       "3              28           15.6                     no                3   \n",
       "4              28           15.6                     no                2   \n",
       "5              28           15.6                    yes                1   \n",
       "6              28           15.6                    yes                1   \n",
       "7              28           15.6                    yes                5   \n",
       "8              28           15.6                     no                1   \n",
       "9              28           15.6                    yes                3   \n",
       "\n",
       "  property_condition  \n",
       "0          excellent  \n",
       "1               good  \n",
       "2               fair  \n",
       "3               fair  \n",
       "4               good  \n",
       "5          excellent  \n",
       "6          excellent  \n",
       "7               poor  \n",
       "8          excellent  \n",
       "9               fair  "
      ]
     },
     "execution_count": 5,
     "metadata": {},
     "output_type": "execute_result"
    }
   ],
   "source": [
    "df"
   ]
  },
  {
   "cell_type": "code",
   "execution_count": 6,
   "id": "5965c7a6",
   "metadata": {},
   "outputs": [],
   "source": [
    "# Features and target\n",
    "X = df.drop(\"property_price\", axis=1)\n",
    "y = df[\"property_price\"]"
   ]
  },
  {
   "cell_type": "code",
   "execution_count": 7,
   "id": "2f83f819",
   "metadata": {},
   "outputs": [],
   "source": [
    "# Preprocessing pipelines\n",
    "numeric_features = [\"land_size\", \"age_of_property\", \"inflation_rate\", \"exchange_rate\"]\n",
    "categorical_features = [\"city\", \"house_type\", \"proximity_to_amenities\", \"property_condition\"]"
   ]
  },
  {
   "cell_type": "code",
   "execution_count": 8,
   "id": "7900649b",
   "metadata": {},
   "outputs": [],
   "source": [
    "numeric_transformer = StandardScaler()\n",
    "categorical_transformer = OneHotEncoder(handle_unknown='ignore')"
   ]
  },
  {
   "cell_type": "code",
   "execution_count": 9,
   "id": "ee7d2f46",
   "metadata": {},
   "outputs": [],
   "source": [
    "preprocessor = ColumnTransformer(\n",
    "    transformers=[\n",
    "        ('num', numeric_transformer, numeric_features),\n",
    "        ('cat', categorical_transformer, categorical_features)])"
   ]
  },
  {
   "cell_type": "code",
   "execution_count": 10,
   "id": "d882bd1b",
   "metadata": {},
   "outputs": [],
   "source": [
    "# Append regressor to preprocessing pipeline.\n",
    "model = Pipeline(steps=[('preprocessor', preprocessor),\n",
    "                        ('regressor', RandomForestRegressor())])"
   ]
  },
  {
   "cell_type": "code",
   "execution_count": 11,
   "id": "2b7486b2",
   "metadata": {},
   "outputs": [],
   "source": [
    "# Split the data\n",
    "X_train, X_test, y_train, y_test = train_test_split(X, y, test_size=0.2, random_state=42)"
   ]
  },
  {
   "cell_type": "code",
   "execution_count": 12,
   "id": "9c8621b8",
   "metadata": {},
   "outputs": [
    {
     "data": {
      "text/html": [
       "<style>#sk-container-id-1 {color: black;background-color: white;}#sk-container-id-1 pre{padding: 0;}#sk-container-id-1 div.sk-toggleable {background-color: white;}#sk-container-id-1 label.sk-toggleable__label {cursor: pointer;display: block;width: 100%;margin-bottom: 0;padding: 0.3em;box-sizing: border-box;text-align: center;}#sk-container-id-1 label.sk-toggleable__label-arrow:before {content: \"▸\";float: left;margin-right: 0.25em;color: #696969;}#sk-container-id-1 label.sk-toggleable__label-arrow:hover:before {color: black;}#sk-container-id-1 div.sk-estimator:hover label.sk-toggleable__label-arrow:before {color: black;}#sk-container-id-1 div.sk-toggleable__content {max-height: 0;max-width: 0;overflow: hidden;text-align: left;background-color: #f0f8ff;}#sk-container-id-1 div.sk-toggleable__content pre {margin: 0.2em;color: black;border-radius: 0.25em;background-color: #f0f8ff;}#sk-container-id-1 input.sk-toggleable__control:checked~div.sk-toggleable__content {max-height: 200px;max-width: 100%;overflow: auto;}#sk-container-id-1 input.sk-toggleable__control:checked~label.sk-toggleable__label-arrow:before {content: \"▾\";}#sk-container-id-1 div.sk-estimator input.sk-toggleable__control:checked~label.sk-toggleable__label {background-color: #d4ebff;}#sk-container-id-1 div.sk-label input.sk-toggleable__control:checked~label.sk-toggleable__label {background-color: #d4ebff;}#sk-container-id-1 input.sk-hidden--visually {border: 0;clip: rect(1px 1px 1px 1px);clip: rect(1px, 1px, 1px, 1px);height: 1px;margin: -1px;overflow: hidden;padding: 0;position: absolute;width: 1px;}#sk-container-id-1 div.sk-estimator {font-family: monospace;background-color: #f0f8ff;border: 1px dotted black;border-radius: 0.25em;box-sizing: border-box;margin-bottom: 0.5em;}#sk-container-id-1 div.sk-estimator:hover {background-color: #d4ebff;}#sk-container-id-1 div.sk-parallel-item::after {content: \"\";width: 100%;border-bottom: 1px solid gray;flex-grow: 1;}#sk-container-id-1 div.sk-label:hover label.sk-toggleable__label {background-color: #d4ebff;}#sk-container-id-1 div.sk-serial::before {content: \"\";position: absolute;border-left: 1px solid gray;box-sizing: border-box;top: 0;bottom: 0;left: 50%;z-index: 0;}#sk-container-id-1 div.sk-serial {display: flex;flex-direction: column;align-items: center;background-color: white;padding-right: 0.2em;padding-left: 0.2em;position: relative;}#sk-container-id-1 div.sk-item {position: relative;z-index: 1;}#sk-container-id-1 div.sk-parallel {display: flex;align-items: stretch;justify-content: center;background-color: white;position: relative;}#sk-container-id-1 div.sk-item::before, #sk-container-id-1 div.sk-parallel-item::before {content: \"\";position: absolute;border-left: 1px solid gray;box-sizing: border-box;top: 0;bottom: 0;left: 50%;z-index: -1;}#sk-container-id-1 div.sk-parallel-item {display: flex;flex-direction: column;z-index: 1;position: relative;background-color: white;}#sk-container-id-1 div.sk-parallel-item:first-child::after {align-self: flex-end;width: 50%;}#sk-container-id-1 div.sk-parallel-item:last-child::after {align-self: flex-start;width: 50%;}#sk-container-id-1 div.sk-parallel-item:only-child::after {width: 0;}#sk-container-id-1 div.sk-dashed-wrapped {border: 1px dashed gray;margin: 0 0.4em 0.5em 0.4em;box-sizing: border-box;padding-bottom: 0.4em;background-color: white;}#sk-container-id-1 div.sk-label label {font-family: monospace;font-weight: bold;display: inline-block;line-height: 1.2em;}#sk-container-id-1 div.sk-label-container {text-align: center;}#sk-container-id-1 div.sk-container {/* jupyter's `normalize.less` sets `[hidden] { display: none; }` but bootstrap.min.css set `[hidden] { display: none !important; }` so we also need the `!important` here to be able to override the default hidden behavior on the sphinx rendered scikit-learn.org. See: https://github.com/scikit-learn/scikit-learn/issues/21755 */display: inline-block !important;position: relative;}#sk-container-id-1 div.sk-text-repr-fallback {display: none;}</style><div id=\"sk-container-id-1\" class=\"sk-top-container\"><div class=\"sk-text-repr-fallback\"><pre>Pipeline(steps=[(&#x27;preprocessor&#x27;,\n",
       "                 ColumnTransformer(transformers=[(&#x27;num&#x27;, StandardScaler(),\n",
       "                                                  [&#x27;land_size&#x27;,\n",
       "                                                   &#x27;age_of_property&#x27;,\n",
       "                                                   &#x27;inflation_rate&#x27;,\n",
       "                                                   &#x27;exchange_rate&#x27;]),\n",
       "                                                 (&#x27;cat&#x27;,\n",
       "                                                  OneHotEncoder(handle_unknown=&#x27;ignore&#x27;),\n",
       "                                                  [&#x27;city&#x27;, &#x27;house_type&#x27;,\n",
       "                                                   &#x27;proximity_to_amenities&#x27;,\n",
       "                                                   &#x27;property_condition&#x27;])])),\n",
       "                (&#x27;regressor&#x27;, RandomForestRegressor())])</pre><b>In a Jupyter environment, please rerun this cell to show the HTML representation or trust the notebook. <br />On GitHub, the HTML representation is unable to render, please try loading this page with nbviewer.org.</b></div><div class=\"sk-container\" hidden><div class=\"sk-item sk-dashed-wrapped\"><div class=\"sk-label-container\"><div class=\"sk-label sk-toggleable\"><input class=\"sk-toggleable__control sk-hidden--visually\" id=\"sk-estimator-id-1\" type=\"checkbox\" ><label for=\"sk-estimator-id-1\" class=\"sk-toggleable__label sk-toggleable__label-arrow\">Pipeline</label><div class=\"sk-toggleable__content\"><pre>Pipeline(steps=[(&#x27;preprocessor&#x27;,\n",
       "                 ColumnTransformer(transformers=[(&#x27;num&#x27;, StandardScaler(),\n",
       "                                                  [&#x27;land_size&#x27;,\n",
       "                                                   &#x27;age_of_property&#x27;,\n",
       "                                                   &#x27;inflation_rate&#x27;,\n",
       "                                                   &#x27;exchange_rate&#x27;]),\n",
       "                                                 (&#x27;cat&#x27;,\n",
       "                                                  OneHotEncoder(handle_unknown=&#x27;ignore&#x27;),\n",
       "                                                  [&#x27;city&#x27;, &#x27;house_type&#x27;,\n",
       "                                                   &#x27;proximity_to_amenities&#x27;,\n",
       "                                                   &#x27;property_condition&#x27;])])),\n",
       "                (&#x27;regressor&#x27;, RandomForestRegressor())])</pre></div></div></div><div class=\"sk-serial\"><div class=\"sk-item sk-dashed-wrapped\"><div class=\"sk-label-container\"><div class=\"sk-label sk-toggleable\"><input class=\"sk-toggleable__control sk-hidden--visually\" id=\"sk-estimator-id-2\" type=\"checkbox\" ><label for=\"sk-estimator-id-2\" class=\"sk-toggleable__label sk-toggleable__label-arrow\">preprocessor: ColumnTransformer</label><div class=\"sk-toggleable__content\"><pre>ColumnTransformer(transformers=[(&#x27;num&#x27;, StandardScaler(),\n",
       "                                 [&#x27;land_size&#x27;, &#x27;age_of_property&#x27;,\n",
       "                                  &#x27;inflation_rate&#x27;, &#x27;exchange_rate&#x27;]),\n",
       "                                (&#x27;cat&#x27;, OneHotEncoder(handle_unknown=&#x27;ignore&#x27;),\n",
       "                                 [&#x27;city&#x27;, &#x27;house_type&#x27;,\n",
       "                                  &#x27;proximity_to_amenities&#x27;,\n",
       "                                  &#x27;property_condition&#x27;])])</pre></div></div></div><div class=\"sk-parallel\"><div class=\"sk-parallel-item\"><div class=\"sk-item\"><div class=\"sk-label-container\"><div class=\"sk-label sk-toggleable\"><input class=\"sk-toggleable__control sk-hidden--visually\" id=\"sk-estimator-id-3\" type=\"checkbox\" ><label for=\"sk-estimator-id-3\" class=\"sk-toggleable__label sk-toggleable__label-arrow\">num</label><div class=\"sk-toggleable__content\"><pre>[&#x27;land_size&#x27;, &#x27;age_of_property&#x27;, &#x27;inflation_rate&#x27;, &#x27;exchange_rate&#x27;]</pre></div></div></div><div class=\"sk-serial\"><div class=\"sk-item\"><div class=\"sk-estimator sk-toggleable\"><input class=\"sk-toggleable__control sk-hidden--visually\" id=\"sk-estimator-id-4\" type=\"checkbox\" ><label for=\"sk-estimator-id-4\" class=\"sk-toggleable__label sk-toggleable__label-arrow\">StandardScaler</label><div class=\"sk-toggleable__content\"><pre>StandardScaler()</pre></div></div></div></div></div></div><div class=\"sk-parallel-item\"><div class=\"sk-item\"><div class=\"sk-label-container\"><div class=\"sk-label sk-toggleable\"><input class=\"sk-toggleable__control sk-hidden--visually\" id=\"sk-estimator-id-5\" type=\"checkbox\" ><label for=\"sk-estimator-id-5\" class=\"sk-toggleable__label sk-toggleable__label-arrow\">cat</label><div class=\"sk-toggleable__content\"><pre>[&#x27;city&#x27;, &#x27;house_type&#x27;, &#x27;proximity_to_amenities&#x27;, &#x27;property_condition&#x27;]</pre></div></div></div><div class=\"sk-serial\"><div class=\"sk-item\"><div class=\"sk-estimator sk-toggleable\"><input class=\"sk-toggleable__control sk-hidden--visually\" id=\"sk-estimator-id-6\" type=\"checkbox\" ><label for=\"sk-estimator-id-6\" class=\"sk-toggleable__label sk-toggleable__label-arrow\">OneHotEncoder</label><div class=\"sk-toggleable__content\"><pre>OneHotEncoder(handle_unknown=&#x27;ignore&#x27;)</pre></div></div></div></div></div></div></div></div><div class=\"sk-item\"><div class=\"sk-estimator sk-toggleable\"><input class=\"sk-toggleable__control sk-hidden--visually\" id=\"sk-estimator-id-7\" type=\"checkbox\" ><label for=\"sk-estimator-id-7\" class=\"sk-toggleable__label sk-toggleable__label-arrow\">RandomForestRegressor</label><div class=\"sk-toggleable__content\"><pre>RandomForestRegressor()</pre></div></div></div></div></div></div></div>"
      ],
      "text/plain": [
       "Pipeline(steps=[('preprocessor',\n",
       "                 ColumnTransformer(transformers=[('num', StandardScaler(),\n",
       "                                                  ['land_size',\n",
       "                                                   'age_of_property',\n",
       "                                                   'inflation_rate',\n",
       "                                                   'exchange_rate']),\n",
       "                                                 ('cat',\n",
       "                                                  OneHotEncoder(handle_unknown='ignore'),\n",
       "                                                  ['city', 'house_type',\n",
       "                                                   'proximity_to_amenities',\n",
       "                                                   'property_condition'])])),\n",
       "                ('regressor', RandomForestRegressor())])"
      ]
     },
     "execution_count": 12,
     "metadata": {},
     "output_type": "execute_result"
    }
   ],
   "source": [
    "model.fit(X_train, y_train)"
   ]
  },
  {
   "cell_type": "code",
   "execution_count": 13,
   "id": "96c8921b",
   "metadata": {},
   "outputs": [
    {
     "name": "stdout",
     "output_type": "stream",
     "text": [
      "Mean Squared Error: 280694725.0\n"
     ]
    }
   ],
   "source": [
    "y_pred = model.predict(X_test)\n",
    "print(f'Mean Squared Error: {mean_squared_error(y_test, y_pred)}')"
   ]
  },
  {
   "cell_type": "code",
   "execution_count": 14,
   "id": "8db6f827",
   "metadata": {},
   "outputs": [],
   "source": [
    "import pickle"
   ]
  },
  {
   "cell_type": "code",
   "execution_count": 15,
   "id": "d0fd5de4",
   "metadata": {},
   "outputs": [],
   "source": [
    "with open('model_pkl', 'wb') as files:\n",
    "    pickle.dump(model, files)"
   ]
  },
  {
   "cell_type": "code",
   "execution_count": null,
   "id": "99e3a98f",
   "metadata": {},
   "outputs": [],
   "source": []
  }
 ],
 "metadata": {
  "kernelspec": {
   "display_name": "Python 3 (ipykernel)",
   "language": "python",
   "name": "python3"
  },
  "language_info": {
   "codemirror_mode": {
    "name": "ipython",
    "version": 3
   },
   "file_extension": ".py",
   "mimetype": "text/x-python",
   "name": "python",
   "nbconvert_exporter": "python",
   "pygments_lexer": "ipython3",
   "version": "3.10.4"
  }
 },
 "nbformat": 4,
 "nbformat_minor": 5
}
